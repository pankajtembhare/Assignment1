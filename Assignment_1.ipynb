{
 "cells": [
  {
   "cell_type": "markdown",
   "id": "e7c22270",
   "metadata": {},
   "source": [
    "# Q-1: Creating one variable containing following type of data."
   ]
  },
  {
   "cell_type": "markdown",
   "id": "a05fc0ce",
   "metadata": {},
   "source": [
    "**(1) String   (2)list(3)float(4)tuple**"
   ]
  },
  {
   "cell_type": "code",
   "execution_count": 1,
   "id": "f58b16a0",
   "metadata": {},
   "outputs": [
    {
     "name": "stdout",
     "output_type": "stream",
     "text": [
      "India\n"
     ]
    }
   ],
   "source": [
    "# String\n",
    "data='India'\n",
    "print(data)"
   ]
  },
  {
   "cell_type": "code",
   "execution_count": 2,
   "id": "4522e6d4",
   "metadata": {},
   "outputs": [
    {
     "name": "stdout",
     "output_type": "stream",
     "text": [
      "[1, 2, 3, 4, 5]\n"
     ]
    }
   ],
   "source": [
    "# list\n",
    "data=[1,2,3,4,5]\n",
    "print(data)"
   ]
  },
  {
   "cell_type": "code",
   "execution_count": 3,
   "id": "2fefdcb5",
   "metadata": {},
   "outputs": [
    {
     "name": "stdout",
     "output_type": "stream",
     "text": [
      "10.4\n"
     ]
    }
   ],
   "source": [
    "# float\n",
    "data=10.4\n",
    "print(data)"
   ]
  },
  {
   "cell_type": "code",
   "execution_count": 4,
   "id": "f865079c",
   "metadata": {},
   "outputs": [
    {
     "name": "stdout",
     "output_type": "stream",
     "text": [
      "(1, 2, 3, 4, 5)\n"
     ]
    }
   ],
   "source": [
    "# tuple\n",
    "data=(1,2,3,4,5)\n",
    "print(data)"
   ]
  },
  {
   "cell_type": "markdown",
   "id": "ca6c9bd8",
   "metadata": {},
   "source": [
    "# Q-2 Solution"
   ]
  },
  {
   "cell_type": "code",
   "execution_count": 5,
   "id": "0d11a24e",
   "metadata": {},
   "outputs": [],
   "source": [
    "# (i) 'var1' is string type variable\n",
    "# (2) 'var2' is string type variable\n",
    "# (3) 'var3' is list type variable\n",
    "# (4) 'var4' is integer type variable"
   ]
  },
  {
   "cell_type": "code",
   "execution_count": 6,
   "id": "3c30c227",
   "metadata": {},
   "outputs": [
    {
     "name": "stdout",
     "output_type": "stream",
     "text": [
      "<class 'str'>\n",
      "<class 'str'>\n",
      "<class 'list'>\n",
      "<class 'int'>\n"
     ]
    }
   ],
   "source": [
    "var1=''\n",
    "print(type(var1))\n",
    "\n",
    "var2='[DS,ML,Python]'\n",
    "print(type(var2))\n",
    "\n",
    "var3=['Ds','ML','Python']\n",
    "print(type(var3))\n",
    "\n",
    "var4=1\n",
    "print(type(1))"
   ]
  },
  {
   "cell_type": "markdown",
   "id": "0aa2cb35",
   "metadata": {},
   "source": [
    "# Q-3 : Explain the following operators using example:"
   ]
  },
  {
   "cell_type": "markdown",
   "id": "cac8525e",
   "metadata": {},
   "source": [
    "# / :-This is a division operator used to calculate division"
   ]
  },
  {
   "cell_type": "code",
   "execution_count": 7,
   "id": "a0616acc",
   "metadata": {},
   "outputs": [
    {
     "name": "stdout",
     "output_type": "stream",
     "text": [
      "5.0\n"
     ]
    }
   ],
   "source": [
    "n1=10\n",
    "n2=2\n",
    "print(n1/n2)"
   ]
  },
  {
   "cell_type": "markdown",
   "id": "88efd8e1",
   "metadata": {},
   "source": [
    "# % :- This is a modulo division operator used to calculate remender"
   ]
  },
  {
   "cell_type": "code",
   "execution_count": 8,
   "id": "079e5c55",
   "metadata": {},
   "outputs": [
    {
     "name": "stdout",
     "output_type": "stream",
     "text": [
      "2\n"
     ]
    }
   ],
   "source": [
    "n1=10\n",
    "n2=4\n",
    "print(n1%n2)"
   ]
  },
  {
   "cell_type": "markdown",
   "id": "0539f49c",
   "metadata": {},
   "source": [
    "# // :- This is a Floor division operator used to get smallest number from floating point number"
   ]
  },
  {
   "cell_type": "code",
   "execution_count": 9,
   "id": "bd649020",
   "metadata": {},
   "outputs": [
    {
     "name": "stdout",
     "output_type": "stream",
     "text": [
      "3\n"
     ]
    }
   ],
   "source": [
    "n1=10\n",
    "n2=3\n",
    "print(n1//n2)"
   ]
  },
  {
   "cell_type": "markdown",
   "id": "26f70483",
   "metadata": {},
   "source": [
    "# ** :- This is a Exponential operator used to calculate power. "
   ]
  },
  {
   "cell_type": "code",
   "execution_count": 10,
   "id": "697df222",
   "metadata": {},
   "outputs": [
    {
     "name": "stdout",
     "output_type": "stream",
     "text": [
      "32\n"
     ]
    }
   ],
   "source": [
    "n1=2\n",
    "n2=5\n",
    "print(n1**n2)"
   ]
  },
  {
   "cell_type": "markdown",
   "id": "9cbb5fd3",
   "metadata": {},
   "source": [
    "# Q-4 :- Create a list of length 10 of your choice containing multiple types of data. Using for loop print the element and its data type."
   ]
  },
  {
   "cell_type": "code",
   "execution_count": 11,
   "id": "de561f60",
   "metadata": {},
   "outputs": [
    {
     "name": "stdout",
     "output_type": "stream",
     "text": [
      "1   value= 12         type= <class 'int'>\n",
      "2   value= 34         type= <class 'int'>\n",
      "3   value= India         type= <class 'str'>\n",
      "4   value= Maharashtra         type= <class 'str'>\n",
      "5   value= True         type= <class 'bool'>\n",
      "6   value= False         type= <class 'bool'>\n",
      "7   value= 10.34         type= <class 'float'>\n",
      "8   value= 100.1         type= <class 'float'>\n",
      "9   value= 23         type= <class 'int'>\n",
      "10   value= 100         type= <class 'int'>\n"
     ]
    }
   ],
   "source": [
    "lst=[12,34,'India','Maharashtra',True,False,10.34,100.10,23,100]\n",
    "count=0\n",
    "for i in lst:\n",
    "    count=count+1\n",
    "    print(count,'  value=',i,'        type=',type(i))"
   ]
  },
  {
   "cell_type": "markdown",
   "id": "df11dbd4",
   "metadata": {},
   "source": [
    "# Q-5 : Using a while loop, verify if the number A is purely divisible by number B and if so then how many times it can be divisible."
   ]
  },
  {
   "cell_type": "code",
   "execution_count": 12,
   "id": "41d5cf37",
   "metadata": {},
   "outputs": [
    {
     "name": "stdout",
     "output_type": "stream",
     "text": [
      "10\n"
     ]
    }
   ],
   "source": [
    "A=50\n",
    "B=5\n",
    "temp=B\n",
    "count=0\n",
    "if((A%B)==0):\n",
    "    while(A>=B):\n",
    "        count=count+1\n",
    "        B=B+temp\n",
    "    else:\n",
    "        print(count)\n",
    "else:\n",
    "    print('A is not purely divisible by B')"
   ]
  },
  {
   "cell_type": "markdown",
   "id": "fee3a7f9",
   "metadata": {},
   "source": [
    "# Q-6 :Create a list containing 25 int type data. Using for loop and if-else condition print if the element is divisible by 3 or not."
   ]
  },
  {
   "cell_type": "code",
   "execution_count": 13,
   "id": "4e8b2fd2",
   "metadata": {},
   "outputs": [],
   "source": [
    " lst=list(range(1,26))"
   ]
  },
  {
   "cell_type": "code",
   "execution_count": 14,
   "id": "85fa33b1",
   "metadata": {},
   "outputs": [
    {
     "name": "stdout",
     "output_type": "stream",
     "text": [
      "1 is not divisible by 3\n",
      "2 is not divisible by 3\n",
      "3 is divisible by 3\n",
      "4 is not divisible by 3\n",
      "5 is not divisible by 3\n",
      "6 is divisible by 3\n",
      "7 is not divisible by 3\n",
      "8 is not divisible by 3\n",
      "9 is divisible by 3\n",
      "10 is not divisible by 3\n",
      "11 is not divisible by 3\n",
      "12 is divisible by 3\n",
      "13 is not divisible by 3\n",
      "14 is not divisible by 3\n",
      "15 is divisible by 3\n",
      "16 is not divisible by 3\n",
      "17 is not divisible by 3\n",
      "18 is divisible by 3\n",
      "19 is not divisible by 3\n",
      "20 is not divisible by 3\n",
      "21 is divisible by 3\n",
      "22 is not divisible by 3\n",
      "23 is not divisible by 3\n",
      "24 is divisible by 3\n",
      "25 is not divisible by 3\n"
     ]
    }
   ],
   "source": [
    "for i in lst:\n",
    "    if(i%3==0):\n",
    "        print(i, 'is divisible by 3')\n",
    "    else:\n",
    "        print(i, 'is not divisible by 3')"
   ]
  },
  {
   "cell_type": "markdown",
   "id": "88ce564f",
   "metadata": {},
   "source": [
    "# Q-7 :- What do you understand about mutable and immutable data types? Give example for both showing this property."
   ]
  },
  {
   "cell_type": "markdown",
   "id": "8ee82a7f",
   "metadata": {},
   "source": [
    "# Mutable"
   ]
  },
  {
   "cell_type": "markdown",
   "id": "143a4b7e",
   "metadata": {},
   "source": [
    "**Mutable object can be modified after creating. ex-(such as lists, dictionaries,etc.). We may add new values or remove the existing values from our data types. Basically, we may perform any operation with our data without having to create a new copy of our data type.If we try to do any modification in that then it will throw error.**"
   ]
  },
  {
   "cell_type": "code",
   "execution_count": 15,
   "id": "c6391d55",
   "metadata": {},
   "outputs": [
    {
     "name": "stdout",
     "output_type": "stream",
     "text": [
      "[1, 2, 3, 4, 5]\n",
      "[45, 2, 3, 4, 5]\n"
     ]
    }
   ],
   "source": [
    "# Example\n",
    "ex=[1,2,3,4,5]\n",
    "print(ex)\n",
    "ex[0]=45        # modify index 0 with 45\n",
    "print(ex)\n",
    "\n",
    "# remove "
   ]
  },
  {
   "cell_type": "markdown",
   "id": "7ac7bbd1",
   "metadata": {},
   "source": [
    "# Immutable"
   ]
  },
  {
   "cell_type": "markdown",
   "id": "eb3f32b0",
   "metadata": {},
   "source": [
    "**Immutable object can't be modified onece they created. ex(such as tuple,sting). We can't add new values or remove the existing values from our immutable data types. We can't perform any operation with our data without creating new copy of the data type.**"
   ]
  },
  {
   "cell_type": "code",
   "execution_count": 16,
   "id": "6a858edc",
   "metadata": {},
   "outputs": [
    {
     "name": "stdout",
     "output_type": "stream",
     "text": [
      "String\n"
     ]
    }
   ],
   "source": [
    "string='String'\n",
    "print(string)\n",
    "\n"
   ]
  },
  {
   "cell_type": "code",
   "execution_count": 17,
   "id": "64252d62",
   "metadata": {},
   "outputs": [
    {
     "ename": "TypeError",
     "evalue": "'str' object does not support item assignment",
     "output_type": "error",
     "traceback": [
      "\u001b[1;31m---------------------------------------------------------------------------\u001b[0m",
      "\u001b[1;31mTypeError\u001b[0m                                 Traceback (most recent call last)",
      "Cell \u001b[1;32mIn[17], line 2\u001b[0m\n\u001b[0;32m      1\u001b[0m \u001b[38;5;66;03m# try to modify \u001b[39;00m\n\u001b[1;32m----> 2\u001b[0m \u001b[43mstring\u001b[49m\u001b[43m[\u001b[49m\u001b[38;5;241;43m0\u001b[39;49m\u001b[43m]\u001b[49m\u001b[38;5;241m=\u001b[39m\u001b[38;5;124m'\u001b[39m\u001b[38;5;124mP\u001b[39m\u001b[38;5;124m'\u001b[39m\n",
      "\u001b[1;31mTypeError\u001b[0m: 'str' object does not support item assignment"
     ]
    }
   ],
   "source": [
    "# try to modify \n",
    "string[0]='P'"
   ]
  },
  {
   "cell_type": "code",
   "execution_count": null,
   "id": "15b85327",
   "metadata": {},
   "outputs": [],
   "source": []
  }
 ],
 "metadata": {
  "kernelspec": {
   "display_name": "Python 3 (ipykernel)",
   "language": "python",
   "name": "python3"
  },
  "language_info": {
   "codemirror_mode": {
    "name": "ipython",
    "version": 3
   },
   "file_extension": ".py",
   "mimetype": "text/x-python",
   "name": "python",
   "nbconvert_exporter": "python",
   "pygments_lexer": "ipython3",
   "version": "3.11.1"
  }
 },
 "nbformat": 4,
 "nbformat_minor": 5
}
